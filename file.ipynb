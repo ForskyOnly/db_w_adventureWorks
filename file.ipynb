{
 "cells": [
  {
   "cell_type": "markdown",
   "metadata": {},
   "source": [
    "<h1 style=\"text-align:center;\">Gérer une base de données avec Adventure Works</h1>\n",
    "<h2 style=\"text-align:center;\">1. Récupérer les données</h2>\n",
    "\n",
    "## Trouver un moyen de faire ce back up en local\n",
    "\n",
    "***Pour éffectuer le backup en local, ici j'utilise une image docker SQL Server, ensuite j'utilise Azure Data Studio pour me connecter à la BDD***\n",
    "<br>"
   ]
  },
  {
   "cell_type": "markdown",
   "metadata": {},
   "source": [
    "<br>\n",
    "\n",
    "docker run -e \"ACCEPT_EULA=Y\" -e \"MSSQL_SA_PASSWORD=Admin123\" \\ -p 1433:1433 --name sqlpreview -v /home/apprenant/Documents/01projet_python/DevIA_Roubaix/db_w_adventureWorks/data:/var/opt/mssql/backup \\ -d mcr.microsoft.com/mssql/server:2022-preview-ubuntu-22.04'\n",
    "<br>\n",
    "***\n",
    "    -e \"ACCEPT_EULA=Y\" et -e \"MSSQL_SA_PASSWORD=Admin123\" : variables d'environnement.\n",
    "***\n",
    "    -p 1433:1433 :  mappe le port 1433 à l'intérieur du conteneur vers le port 1433 sur l'hôte.\n",
    "***\n",
    "    --name sqlpreview : nom du conteneur.\n",
    "***\n",
    "    -v /home/apprenant/Documents/01projet_python/DevIA_Roubaix/db_w_adventureWorks/data:/var/opt/mssql/backup : crée un volume Docker qui mappe le répertoire local vers le répertoire dans le conteneur, Pour rendre les fichiers .bak directement disponibles dans le répertoire /var/opt/mssql/backup du conteneur.\n",
    "***\n",
    "    -d mcr.microsoft.com/mssql/server:2022-preview-ubuntu-22.04 : l'image Docker utilisé pour créer le conteneur."
   ]
  },
  {
   "cell_type": "markdown",
   "metadata": {},
   "source": [
    "### Faire une visualisation du Entity Relational Diagram (ERD)"
   ]
  },
  {
   "cell_type": "markdown",
   "metadata": {},
   "source": [
    "###  AdventureWorks19\n",
    "\n",
    "<img src=\"./images/advworks19.svg\" alt=\"Mon image\" style=\"width:1700px; height:auto;\" onmouseover=\"this.width=1000; this.height=auto;\" onmouseout=\"this.width=auto; this.height=auto;\" />\n",
    "<br> \n",
    "\n",
    "***\n",
    "### AdventureWorksDW19\n",
    "\n",
    "<img src=\"./images/chart.svg\" alt=\"Mon image\" style=\"width:1700px; height:auto;\" onmouseover=\"this.width=1000; this.height=auto;\" onmouseout=\"this.width=auto; this.height=auto;\" />\n",
    "\n",
    "\n"
   ]
  },
  {
   "cell_type": "markdown",
   "metadata": {},
   "source": [
    "***\n",
    "### Expliquer le rôle de chaque BDD. Quel est leur utilité ? Quel est leur lien ? Expliquer le concept d’ETL.\n",
    "\n",
    "   **Qu'est ce que OLTP, OLAP, DataWarehouse, Datalake, DataMart et DataMesh?**\n",
    "***\n"
   ]
  },
  {
   "cell_type": "markdown",
   "metadata": {},
   "source": [
    "**OLTP (Online Transaction Processing)**\n",
    "\n",
    "Utilité : OLTP est principalement axé sur la gestion des transactions opérationnelles. Les bases de données OLTP sont optimisées pour des opérations rapides, simples et courtes.\n",
    "\n",
    "Lien : OLTP est souvent une source de données pour des systèmes OLAP, DataWarehouses, etc., où les données sont transformées et analysées.\n",
    "***\n",
    "**OLAP (Online Analytical Processing)**\n",
    "\n",
    "Utilité : OLAP est conçu pour l'analyse de données complexe et des requêtes ad hoc. Contrairement à OLTP, qui gère beaucoup de petites transactions, OLAP traite des volumes plus faibles de transactions plus complexes.\n",
    "\n",
    "Lien : Les données pour OLAP sont souvent alimentées par des systèmes OLTP via des processus ETL.\n",
    "***\n",
    "**Data Warehouse**\n",
    "\n",
    "Utilité : Un Data Warehouse stocke des données de différentes sources dans un format optimisé pour l'analyse et la génération de rapports.\n",
    "\n",
    "Lien : Les Data Warehouses sont souvent alimentés par des bases de données OLTP, et ils servent eux-mêmes de source de données pour les solutions OLAP et les Data Marts.\n",
    "***\n",
    "**Data Lake**\n",
    "\n",
    "Utilité : Un Data Lake est un vaste réservoir de données brutes qui peuvent être structurées, semi-structurées ou non structurées.\n",
    "\n",
    "Lien : Les Data Lakes peuvent stocker des données qui sont ensuite transformées et chargées dans des Data Warehouses ou qui sont directement analysées.\n",
    "***\n",
    "**Data Mart**\n",
    "\n",
    "Utilité : Un Data Mart est une sous-ensemble d'un Data Warehouse. Il est conçu pour servir une communauté spécifique d'utilisateurs au sein d'une organisation.\n",
    "\n",
    "Lien : Les Data Marts sont souvent alimentés par un Data Warehouse et sont optimisés pour une catégorie spécifique d'analyses ou d'utilisateurs.\n",
    "***\n",
    "**Data Mesh**\n",
    "\n",
    "Utilité : Le Data Mesh est une architecture visant à équilibrer la distribution, la découverte et la gouvernance des données dans des organisations complexes et à grande échelle.\n",
    "\n",
    "Lien : Le Data Mesh cherche à intégrer diverses plateformes de données comme les Data Lakes, les Data Warehouses et les bases de données opérationnelles.\n",
    "***\n",
    "**ETL (Extract, Transform, Load)**\n",
    "\n",
    "C'est un type de processus de gestion des données qui :\n",
    "\n",
    "- Extrait des données de différentes sources (souvent des bases de données OLTP).\n",
    "- Transforme ces données pour les rendre cohérentes et les préparer pour l'analyse.\n",
    "- Charge les données transformées dans une nouvelle base de données ou un Data Warehouse.\n",
    "\n"
   ]
  }
 ],
 "metadata": {
  "kernelspec": {
   "display_name": "ml",
   "language": "python",
   "name": "python3"
  },
  "language_info": {
   "codemirror_mode": {
    "name": "ipython",
    "version": 3
   },
   "file_extension": ".py",
   "mimetype": "text/x-python",
   "name": "python",
   "nbconvert_exporter": "python",
   "pygments_lexer": "ipython3",
   "version": "3.10.12"
  },
  "orig_nbformat": 4
 },
 "nbformat": 4,
 "nbformat_minor": 2
}
