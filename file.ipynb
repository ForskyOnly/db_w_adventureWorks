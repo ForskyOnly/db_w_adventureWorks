{
 "cells": [
  {
   "cell_type": "markdown",
   "metadata": {},
   "source": [
    "<h1 style=\"text-align:center;\">Gérer une base de données avec Adventure Works</h1>\n",
    "<h2 style=\"text-align:center;\">1. Récupérer les données</h2>\n",
    "\n",
    "## Trouver un moyen de faire ce back up en local\n",
    "\n",
    "***Pour éffectuer le backup en local, ici j'utilise une image docker SQL Server, ensuite j'utilise Azure Data Studio pour me connecter à la BDD***\n",
    "<br>"
   ]
  },
  {
   "cell_type": "markdown",
   "metadata": {},
   "source": [
    "<br>\n",
    "\n",
    "docker run -e \"ACCEPT_EULA=Y\" -e \"MSSQL_SA_PASSWORD=Admin123\" \\\n",
    "-p 1433:1433 --name sqlpreview -v /home/apprenant/Documents/01projet_python/DevIA_Roubaix/db_w_adventureWorks/data:/var/opt/mssql/backup \\\n",
    "-d mcr.microsoft.com/mssql/server:2022-preview-ubuntu-22.04'\n",
    "<br>\n",
    "***\n",
    "    -e \"ACCEPT_EULA=Y\" et -e \"MSSQL_SA_PASSWORD=Admin123\" : variables d'environnement.\n",
    "***\n",
    "    -p 1433:1433 :  mappe le port 1433 à l'intérieur du conteneur vers le port 1433 sur l'hôte.\n",
    "***\n",
    "    --name sqlpreview : nom du conteneur.\n",
    "***\n",
    "    -v /home/apprenant/Documents/01projet_python/DevIA_Roubaix/db_w_adventureWorks/data:/var/opt/mssql/backup : crée un volume Docker qui mappe le répertoire local vers le répertoire dans le conteneur, Pour rendre les fichiers .bak directement disponibles dans le répertoire /var/opt/mssql/backup du conteneur.\n",
    "***\n",
    "    -d mcr.microsoft.com/mssql/server:2022-preview-ubuntu-22.04 : l'image Docker utilisé pour créer le conteneur."
   ]
  },
  {
   "cell_type": "markdown",
   "metadata": {},
   "source": [
    "### Faire une visualisation du Entity Relational Diagram (ERD)"
   ]
  },
  {
   "cell_type": "markdown",
   "metadata": {},
   "source": [
    "###  AdventureWorks19\n",
    "\n",
    "<img src=\"./images/advworks19.svg\" alt=\"Mon image\" style=\"width:1700px; height:auto;\" onmouseover=\"this.width=1000; this.height=auto;\" onmouseout=\"this.width=auto; this.height=auto;\" />\n",
    "<br> \n",
    "\n",
    "***\n",
    "### AdventureWorksDW19\n",
    "\n",
    "<img src=\"./images/chart.svg\" alt=\"Mon image\" style=\"width:1700px; height:auto;\" onmouseover=\"this.width=1000; this.height=auto;\" onmouseout=\"this.width=auto; this.height=auto;\" />\n",
    "\n",
    "\n"
   ]
  },
  {
   "cell_type": "markdown",
   "metadata": {},
   "source": []
  }
 ],
 "metadata": {
  "kernelspec": {
   "display_name": "ml",
   "language": "python",
   "name": "python3"
  },
  "language_info": {
   "codemirror_mode": {
    "name": "ipython",
    "version": 3
   },
   "file_extension": ".py",
   "mimetype": "text/x-python",
   "name": "python",
   "nbconvert_exporter": "python",
   "pygments_lexer": "ipython3",
   "version": "3.10.12"
  },
  "orig_nbformat": 4
 },
 "nbformat": 4,
 "nbformat_minor": 2
}
